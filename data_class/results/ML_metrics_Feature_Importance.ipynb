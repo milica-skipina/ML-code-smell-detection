{
 "cells": [
  {
   "cell_type": "code",
   "execution_count": 1,
   "metadata": {},
   "outputs": [],
   "source": [
    "import pandas as pd\n",
    "import seaborn as sns\n",
    "import matplotlib.pyplot as plt\n",
    "import researchpy as rp\n",
    "import numpy as np\n",
    "import datetime\n",
    "from sklearn.utils import compute_sample_weight\n",
    "from sklearn.metrics import roc_auc_score\n",
    "from sklearn.metrics import f1_score, accuracy_score, classification_report, confusion_matrix\n",
    "from sklearn.model_selection import train_test_split\n",
    "from xgboost import plot_importance as pi\n",
    "import pickle"
   ]
  },
  {
   "cell_type": "code",
   "execution_count": 2,
   "metadata": {},
   "outputs": [],
   "source": [
    "data = pd.read_csv('../data/embedded_datasets/metrics_dataset.csv')\n",
    "x = data.drop(columns=['label', 'sample_id', 'severity', 'lcc', 'tcc'])"
   ]
  },
  {
   "cell_type": "code",
   "execution_count": 3,
   "metadata": {},
   "outputs": [
    {
     "data": {
      "text/html": [
       "<div>\n",
       "<style scoped>\n",
       "    .dataframe tbody tr th:only-of-type {\n",
       "        vertical-align: middle;\n",
       "    }\n",
       "\n",
       "    .dataframe tbody tr th {\n",
       "        vertical-align: top;\n",
       "    }\n",
       "\n",
       "    .dataframe thead th {\n",
       "        text-align: right;\n",
       "    }\n",
       "</style>\n",
       "<table border=\"1\" class=\"dataframe\">\n",
       "  <thead>\n",
       "    <tr style=\"text-align: right;\">\n",
       "      <th></th>\n",
       "      <th>sample_id</th>\n",
       "      <th>severity</th>\n",
       "      <th>cbo</th>\n",
       "      <th>wmc</th>\n",
       "      <th>dit</th>\n",
       "      <th>rfc</th>\n",
       "      <th>lcom</th>\n",
       "      <th>tcc</th>\n",
       "      <th>lcc</th>\n",
       "      <th>totalMethodsQty</th>\n",
       "      <th>...</th>\n",
       "      <th>innerClassesQty</th>\n",
       "      <th>lambdasQty</th>\n",
       "      <th>uniqueWordsQty</th>\n",
       "      <th>modifiers</th>\n",
       "      <th>logStatementsQty</th>\n",
       "      <th>from_project</th>\n",
       "      <th>label</th>\n",
       "      <th>type_class</th>\n",
       "      <th>type_innerclass</th>\n",
       "      <th>type_interface</th>\n",
       "    </tr>\n",
       "  </thead>\n",
       "  <tbody>\n",
       "    <tr>\n",
       "      <th>0</th>\n",
       "      <td>4432196</td>\n",
       "      <td>major</td>\n",
       "      <td>3</td>\n",
       "      <td>12</td>\n",
       "      <td>1</td>\n",
       "      <td>0</td>\n",
       "      <td>54</td>\n",
       "      <td>0.0</td>\n",
       "      <td>0.0</td>\n",
       "      <td>12</td>\n",
       "      <td>...</td>\n",
       "      <td>0</td>\n",
       "      <td>0</td>\n",
       "      <td>21</td>\n",
       "      <td>1</td>\n",
       "      <td>0</td>\n",
       "      <td>1</td>\n",
       "      <td>1</td>\n",
       "      <td>1.0</td>\n",
       "      <td>0.0</td>\n",
       "      <td>0.0</td>\n",
       "    </tr>\n",
       "    <tr>\n",
       "      <th>1</th>\n",
       "      <td>7391055</td>\n",
       "      <td>major</td>\n",
       "      <td>3</td>\n",
       "      <td>0</td>\n",
       "      <td>1</td>\n",
       "      <td>0</td>\n",
       "      <td>0</td>\n",
       "      <td>-1.0</td>\n",
       "      <td>-1.0</td>\n",
       "      <td>0</td>\n",
       "      <td>...</td>\n",
       "      <td>0</td>\n",
       "      <td>0</td>\n",
       "      <td>12</td>\n",
       "      <td>1</td>\n",
       "      <td>0</td>\n",
       "      <td>1</td>\n",
       "      <td>1</td>\n",
       "      <td>1.0</td>\n",
       "      <td>0.0</td>\n",
       "      <td>0.0</td>\n",
       "    </tr>\n",
       "    <tr>\n",
       "      <th>2</th>\n",
       "      <td>4687786</td>\n",
       "      <td>major</td>\n",
       "      <td>6</td>\n",
       "      <td>28</td>\n",
       "      <td>1</td>\n",
       "      <td>16</td>\n",
       "      <td>14</td>\n",
       "      <td>0.0</td>\n",
       "      <td>0.0</td>\n",
       "      <td>17</td>\n",
       "      <td>...</td>\n",
       "      <td>0</td>\n",
       "      <td>0</td>\n",
       "      <td>96</td>\n",
       "      <td>1</td>\n",
       "      <td>0</td>\n",
       "      <td>1</td>\n",
       "      <td>1</td>\n",
       "      <td>1.0</td>\n",
       "      <td>0.0</td>\n",
       "      <td>0.0</td>\n",
       "    </tr>\n",
       "    <tr>\n",
       "      <th>3</th>\n",
       "      <td>3797964</td>\n",
       "      <td>major</td>\n",
       "      <td>0</td>\n",
       "      <td>0</td>\n",
       "      <td>1</td>\n",
       "      <td>0</td>\n",
       "      <td>0</td>\n",
       "      <td>-1.0</td>\n",
       "      <td>-1.0</td>\n",
       "      <td>0</td>\n",
       "      <td>...</td>\n",
       "      <td>0</td>\n",
       "      <td>0</td>\n",
       "      <td>5</td>\n",
       "      <td>9</td>\n",
       "      <td>0</td>\n",
       "      <td>1</td>\n",
       "      <td>1</td>\n",
       "      <td>0.0</td>\n",
       "      <td>1.0</td>\n",
       "      <td>0.0</td>\n",
       "    </tr>\n",
       "    <tr>\n",
       "      <th>4</th>\n",
       "      <td>5339993</td>\n",
       "      <td>major</td>\n",
       "      <td>2</td>\n",
       "      <td>3</td>\n",
       "      <td>2</td>\n",
       "      <td>0</td>\n",
       "      <td>0</td>\n",
       "      <td>0.0</td>\n",
       "      <td>0.0</td>\n",
       "      <td>3</td>\n",
       "      <td>...</td>\n",
       "      <td>0</td>\n",
       "      <td>0</td>\n",
       "      <td>10</td>\n",
       "      <td>1</td>\n",
       "      <td>0</td>\n",
       "      <td>1</td>\n",
       "      <td>1</td>\n",
       "      <td>1.0</td>\n",
       "      <td>0.0</td>\n",
       "      <td>0.0</td>\n",
       "    </tr>\n",
       "  </tbody>\n",
       "</table>\n",
       "<p>5 rows × 51 columns</p>\n",
       "</div>"
      ],
      "text/plain": [
       "   sample_id severity  cbo  wmc  dit  rfc  lcom  tcc  lcc  totalMethodsQty  \\\n",
       "0    4432196    major    3   12    1    0    54  0.0  0.0               12   \n",
       "1    7391055    major    3    0    1    0     0 -1.0 -1.0                0   \n",
       "2    4687786    major    6   28    1   16    14  0.0  0.0               17   \n",
       "3    3797964    major    0    0    1    0     0 -1.0 -1.0                0   \n",
       "4    5339993    major    2    3    2    0     0  0.0  0.0                3   \n",
       "\n",
       "   ...  innerClassesQty  lambdasQty  uniqueWordsQty  modifiers  \\\n",
       "0  ...                0           0              21          1   \n",
       "1  ...                0           0              12          1   \n",
       "2  ...                0           0              96          1   \n",
       "3  ...                0           0               5          9   \n",
       "4  ...                0           0              10          1   \n",
       "\n",
       "   logStatementsQty  from_project  label  type_class  type_innerclass  \\\n",
       "0                 0             1      1         1.0              0.0   \n",
       "1                 0             1      1         1.0              0.0   \n",
       "2                 0             1      1         1.0              0.0   \n",
       "3                 0             1      1         0.0              1.0   \n",
       "4                 0             1      1         1.0              0.0   \n",
       "\n",
       "   type_interface  \n",
       "0             0.0  \n",
       "1             0.0  \n",
       "2             0.0  \n",
       "3             0.0  \n",
       "4             0.0  \n",
       "\n",
       "[5 rows x 51 columns]"
      ]
     },
     "execution_count": 3,
     "metadata": {},
     "output_type": "execute_result"
    }
   ],
   "source": [
    "data.head()"
   ]
  },
  {
   "cell_type": "code",
   "execution_count": 4,
   "metadata": {},
   "outputs": [],
   "source": [
    "features_importance = np.zeros(len(x.columns))\n",
    "model_path_base = '../data/saved_models/metrics_dataset_'\n",
    "for rand_seed in range(51):\n",
    "    model_path = model_path_base + str(rand_seed) + '.pkl'\n",
    "    with open(model_path, \"rb\") as input_file:\n",
    "        pipeline = pickle.load(input_file)\n",
    "    \n",
    "    model = pipeline[1]\n",
    "#     print(model)\n",
    "    feature_importances = model.feature_importances_\n",
    "    ind = np.argpartition(feature_importances, -5)[-5:]\n",
    "    k = ind[np.argsort(feature_importances[ind])][::-1]\n",
    "    features_importance[k] = features_importance[k] + 1"
   ]
  },
  {
   "cell_type": "code",
   "execution_count": 5,
   "metadata": {},
   "outputs": [
    {
     "data": {
      "text/plain": [
       "array([15,  3,  7, 18,  0, 11, 32, 34, 25, 35])"
      ]
     },
     "execution_count": 5,
     "metadata": {},
     "output_type": "execute_result"
    }
   ],
   "source": [
    "ind = np.argpartition(features_importance, -10)[-10:]\n",
    "k = ind[np.argsort(features_importance[ind])][::-1]\n",
    "k"
   ]
  },
  {
   "cell_type": "code",
   "execution_count": 6,
   "metadata": {},
   "outputs": [
    {
     "data": {
      "text/plain": [
       "array([51., 50., 50., 36., 24., 20.,  7.,  4.,  4.,  3.])"
      ]
     },
     "execution_count": 6,
     "metadata": {},
     "output_type": "execute_result"
    }
   ],
   "source": [
    "features_importance[k]"
   ]
  },
  {
   "cell_type": "code",
   "execution_count": 7,
   "metadata": {},
   "outputs": [
    {
     "data": {
      "text/plain": [
       "Index(['staticFieldsQty', 'rfc', 'publicMethodsQty', 'protectedFieldsQty',\n",
       "       'cbo', 'abstractMethodsQty', 'assignmentsQty', 'variablesQty',\n",
       "       'returnQty', 'maxNestedBlocksQty'],\n",
       "      dtype='object')"
      ]
     },
     "execution_count": 7,
     "metadata": {},
     "output_type": "execute_result"
    }
   ],
   "source": [
    "x.columns[k]"
   ]
  },
  {
   "cell_type": "code",
   "execution_count": 8,
   "metadata": {},
   "outputs": [
    {
     "data": {
      "image/png": "[encoded data removed]",
      "text/plain": [
       "<Figure size 920x500 with 1 Axes>"
      ]
     },
     "metadata": {},
     "output_type": "display_data"
    }
   ],
   "source": [
    "fig, ax = plt.subplots(figsize=(9.2, 5))\n",
    "plt.barh(range(10), width=features_importance[k][::-1], tick_label=x.columns[k[::-1]], color='lightgreen')\n",
    "widths = features_importance[k][::-1]\n",
    "xcenters = widths / 2\n",
    "for y, (x_ax, c) in enumerate(zip(xcenters, widths)):\n",
    "            ax.text(x_ax, y, str(int(c)), ha='center', va='center',\n",
    "                    color='darkblue')\n",
    "plt.title(\"Data Class - Feature Importance\")\n",
    "plt.show()"
   ]
  }
 ],
 "metadata": {
  "kernelspec": {
   "display_name": "cadet-env",
   "language": "python",
   "name": "cadet-env"
  },
  "language_info": {
   "codemirror_mode": {
    "name": "ipython",
    "version": 3
   },
   "file_extension": ".py",
   "mimetype": "text/x-python",
   "name": "python",
   "nbconvert_exporter": "python",
   "pygments_lexer": "ipython3",
   "version": "3.7.5"
  }
 },
 "nbformat": 4,
 "nbformat_minor": 4
}
