{
 "cells": [
  {
   "cell_type": "code",
   "execution_count": 1,
   "metadata": {},
   "outputs": [],
   "source": [
    "import pandas as pd\n",
    "import seaborn as sns\n",
    "import matplotlib.pyplot as plt\n",
    "import researchpy as rp\n",
    "import numpy as np\n",
    "import datetime\n",
    "from sklearn.utils import compute_sample_weight\n",
    "from sklearn.metrics import roc_auc_score\n",
    "from sklearn.metrics import f1_score, accuracy_score, classification_report, confusion_matrix\n",
    "from sklearn.model_selection import train_test_split\n",
    "from xgboost import plot_importance as pi\n",
    "import pickle"
   ]
  },
  {
   "cell_type": "code",
   "execution_count": 2,
   "metadata": {},
   "outputs": [],
   "source": [
    "data = pd.read_csv('../data/embedded_datasets/metrics_dataset.csv')\n",
    "x = data.drop(columns=['label', 'sample_id', 'severity'])"
   ]
  },
  {
   "cell_type": "code",
   "execution_count": 3,
   "metadata": {},
   "outputs": [
    {
     "data": {
      "text/html": [
       "<div>\n",
       "<style scoped>\n",
       "    .dataframe tbody tr th:only-of-type {\n",
       "        vertical-align: middle;\n",
       "    }\n",
       "\n",
       "    .dataframe tbody tr th {\n",
       "        vertical-align: top;\n",
       "    }\n",
       "\n",
       "    .dataframe thead th {\n",
       "        text-align: right;\n",
       "    }\n",
       "</style>\n",
       "<table border=\"1\" class=\"dataframe\">\n",
       "  <thead>\n",
       "    <tr style=\"text-align: right;\">\n",
       "      <th></th>\n",
       "      <th>sample_id</th>\n",
       "      <th>severity</th>\n",
       "      <th>constructor</th>\n",
       "      <th>line</th>\n",
       "      <th>cbo</th>\n",
       "      <th>wmc</th>\n",
       "      <th>rfc</th>\n",
       "      <th>loc</th>\n",
       "      <th>returnsQty</th>\n",
       "      <th>variablesQty</th>\n",
       "      <th>...</th>\n",
       "      <th>maxNestedBlocksQty</th>\n",
       "      <th>anonymousClassesQty</th>\n",
       "      <th>innerClassesQty</th>\n",
       "      <th>lambdasQty</th>\n",
       "      <th>uniqueWordsQty</th>\n",
       "      <th>modifiers</th>\n",
       "      <th>logStatementsQty</th>\n",
       "      <th>hasJavaDoc</th>\n",
       "      <th>from_project</th>\n",
       "      <th>label</th>\n",
       "    </tr>\n",
       "  </thead>\n",
       "  <tbody>\n",
       "    <tr>\n",
       "      <th>0</th>\n",
       "      <td>4256584</td>\n",
       "      <td>major</td>\n",
       "      <td>0</td>\n",
       "      <td>65</td>\n",
       "      <td>1</td>\n",
       "      <td>1</td>\n",
       "      <td>5</td>\n",
       "      <td>7</td>\n",
       "      <td>0</td>\n",
       "      <td>0</td>\n",
       "      <td>...</td>\n",
       "      <td>0</td>\n",
       "      <td>0</td>\n",
       "      <td>0</td>\n",
       "      <td>0</td>\n",
       "      <td>32</td>\n",
       "      <td>1</td>\n",
       "      <td>0</td>\n",
       "      <td>1</td>\n",
       "      <td>1</td>\n",
       "      <td>1</td>\n",
       "    </tr>\n",
       "    <tr>\n",
       "      <th>1</th>\n",
       "      <td>8922371</td>\n",
       "      <td>major</td>\n",
       "      <td>0</td>\n",
       "      <td>733</td>\n",
       "      <td>3</td>\n",
       "      <td>15</td>\n",
       "      <td>14</td>\n",
       "      <td>71</td>\n",
       "      <td>0</td>\n",
       "      <td>1</td>\n",
       "      <td>...</td>\n",
       "      <td>3</td>\n",
       "      <td>0</td>\n",
       "      <td>0</td>\n",
       "      <td>0</td>\n",
       "      <td>5</td>\n",
       "      <td>1</td>\n",
       "      <td>0</td>\n",
       "      <td>0</td>\n",
       "      <td>1</td>\n",
       "      <td>1</td>\n",
       "    </tr>\n",
       "    <tr>\n",
       "      <th>2</th>\n",
       "      <td>8653310</td>\n",
       "      <td>major</td>\n",
       "      <td>0</td>\n",
       "      <td>105</td>\n",
       "      <td>10</td>\n",
       "      <td>7</td>\n",
       "      <td>73</td>\n",
       "      <td>24</td>\n",
       "      <td>1</td>\n",
       "      <td>6</td>\n",
       "      <td>...</td>\n",
       "      <td>3</td>\n",
       "      <td>0</td>\n",
       "      <td>0</td>\n",
       "      <td>0</td>\n",
       "      <td>32</td>\n",
       "      <td>1</td>\n",
       "      <td>0</td>\n",
       "      <td>1</td>\n",
       "      <td>1</td>\n",
       "      <td>1</td>\n",
       "    </tr>\n",
       "    <tr>\n",
       "      <th>3</th>\n",
       "      <td>4734605</td>\n",
       "      <td>major</td>\n",
       "      <td>0</td>\n",
       "      <td>929</td>\n",
       "      <td>6</td>\n",
       "      <td>4</td>\n",
       "      <td>28</td>\n",
       "      <td>20</td>\n",
       "      <td>0</td>\n",
       "      <td>6</td>\n",
       "      <td>...</td>\n",
       "      <td>1</td>\n",
       "      <td>0</td>\n",
       "      <td>0</td>\n",
       "      <td>1</td>\n",
       "      <td>39</td>\n",
       "      <td>2</td>\n",
       "      <td>2</td>\n",
       "      <td>0</td>\n",
       "      <td>0</td>\n",
       "      <td>1</td>\n",
       "    </tr>\n",
       "    <tr>\n",
       "      <th>4</th>\n",
       "      <td>4514232</td>\n",
       "      <td>major</td>\n",
       "      <td>0</td>\n",
       "      <td>100</td>\n",
       "      <td>15</td>\n",
       "      <td>23</td>\n",
       "      <td>19</td>\n",
       "      <td>65</td>\n",
       "      <td>0</td>\n",
       "      <td>20</td>\n",
       "      <td>...</td>\n",
       "      <td>3</td>\n",
       "      <td>0</td>\n",
       "      <td>0</td>\n",
       "      <td>0</td>\n",
       "      <td>58</td>\n",
       "      <td>33</td>\n",
       "      <td>0</td>\n",
       "      <td>0</td>\n",
       "      <td>1</td>\n",
       "      <td>1</td>\n",
       "    </tr>\n",
       "  </tbody>\n",
       "</table>\n",
       "<p>5 rows × 32 columns</p>\n",
       "</div>"
      ],
      "text/plain": [
       "   sample_id severity  constructor  line  cbo  wmc  rfc  loc  returnsQty  \\\n",
       "0    4256584    major            0    65    1    1    5    7           0   \n",
       "1    8922371    major            0   733    3   15   14   71           0   \n",
       "2    8653310    major            0   105   10    7   73   24           1   \n",
       "3    4734605    major            0   929    6    4   28   20           0   \n",
       "4    4514232    major            0   100   15   23   19   65           0   \n",
       "\n",
       "   variablesQty  ...  maxNestedBlocksQty  anonymousClassesQty  \\\n",
       "0             0  ...                   0                    0   \n",
       "1             1  ...                   3                    0   \n",
       "2             6  ...                   3                    0   \n",
       "3             6  ...                   1                    0   \n",
       "4            20  ...                   3                    0   \n",
       "\n",
       "   innerClassesQty  lambdasQty  uniqueWordsQty  modifiers  logStatementsQty  \\\n",
       "0                0           0              32          1                 0   \n",
       "1                0           0               5          1                 0   \n",
       "2                0           0              32          1                 0   \n",
       "3                0           1              39          2                 2   \n",
       "4                0           0              58         33                 0   \n",
       "\n",
       "   hasJavaDoc  from_project  label  \n",
       "0           1             1      1  \n",
       "1           0             1      1  \n",
       "2           1             1      1  \n",
       "3           0             0      1  \n",
       "4           0             1      1  \n",
       "\n",
       "[5 rows x 32 columns]"
      ]
     },
     "execution_count": 3,
     "metadata": {},
     "output_type": "execute_result"
    }
   ],
   "source": [
    "data.head()"
   ]
  },
  {
   "cell_type": "code",
   "execution_count": 4,
   "metadata": {},
   "outputs": [],
   "source": [
    "features_importance = np.zeros(len(x.columns))\n",
    "model_path_base = '../data/saved_models/metrics_dataset_'\n",
    "for rand_seed in range(51):\n",
    "    model_path = model_path_base + str(rand_seed) + '.pkl'\n",
    "    with open(model_path, \"rb\") as input_file:\n",
    "        pipeline = pickle.load(input_file)\n",
    "    \n",
    "    model = pipeline[1]\n",
    "#     print(model)\n",
    "    feature_importances = model.feature_importances_\n",
    "    ind = np.argpartition(feature_importances, -5)[-5:]\n",
    "    k = ind[np.argsort(feature_importances[ind])][::-1]\n",
    "    features_importance[k] = features_importance[k] + 1"
   ]
  },
  {
   "cell_type": "code",
   "execution_count": 5,
   "metadata": {},
   "outputs": [
    {
     "data": {
      "text/plain": [
       "array([ 9,  4,  5,  2,  7, 20,  8,  3, 18, 25])"
      ]
     },
     "execution_count": 5,
     "metadata": {},
     "output_type": "execute_result"
    }
   ],
   "source": [
    "ind = np.argpartition(features_importance, -10)[-10:]\n",
    "k = ind[np.argsort(features_importance[ind])][::-1]\n",
    "k"
   ]
  },
  {
   "cell_type": "code",
   "execution_count": 6,
   "metadata": {},
   "outputs": [
    {
     "data": {
      "text/plain": [
       "array([51., 48., 44., 40., 25., 18.,  8.,  4.,  4.,  3.])"
      ]
     },
     "execution_count": 6,
     "metadata": {},
     "output_type": "execute_result"
    }
   ],
   "source": [
    "features_importance[k]"
   ]
  },
  {
   "cell_type": "code",
   "execution_count": 7,
   "metadata": {},
   "outputs": [
    {
     "data": {
      "text/plain": [
       "Index(['methodsInvokedQty', 'rfc', 'loc', 'cbo', 'variablesQty',\n",
       "       'maxNestedBlocksQty', 'parametersQty', 'wmc', 'assignmentsQty',\n",
       "       'modifiers'],\n",
       "      dtype='object')"
      ]
     },
     "execution_count": 7,
     "metadata": {},
     "output_type": "execute_result"
    }
   ],
   "source": [
    "x.columns[k]"
   ]
  },
  {
   "cell_type": "code",
   "execution_count": 8,
   "metadata": {},
   "outputs": [
    {
     "data": {
      "image/png": "[encoded data removed]",
      "text/plain": [
       "<Figure size 920x500 with 1 Axes>"
      ]
     },
     "metadata": {},
     "output_type": "display_data"
    }
   ],
   "source": [
    "fig, ax = plt.subplots(figsize=(9.2, 5))\n",
    "plt.barh(range(10), width=features_importance[k][::-1], tick_label=x.columns[k[::-1]], color='lightgreen')\n",
    "widths = features_importance[k][::-1]\n",
    "xcenters = widths / 2\n",
    "for y, (x_ax, c) in enumerate(zip(xcenters, widths)):\n",
    "            ax.text(x_ax, y, str(int(c)), ha='center', va='center',\n",
    "                    color='darkblue')\n",
    "plt.title(\"Feature Envy - Feature Importance\")\n",
    "plt.show()"
   ]
  }
 ],
 "metadata": {
  "kernelspec": {
   "display_name": "cadet-env",
   "language": "python",
   "name": "cadet-env"
  },
  "language_info": {
   "codemirror_mode": {
    "name": "ipython",
    "version": 3
   },
   "file_extension": ".py",
   "mimetype": "text/x-python",
   "name": "python",
   "nbconvert_exporter": "python",
   "pygments_lexer": "ipython3",
   "version": "3.7.5"
  }
 },
 "nbformat": 4,
 "nbformat_minor": 4
}
